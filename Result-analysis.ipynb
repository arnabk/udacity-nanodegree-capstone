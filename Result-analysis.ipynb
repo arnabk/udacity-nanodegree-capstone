{
 "cells": [
  {
   "cell_type": "code",
   "execution_count": 14,
   "metadata": {},
   "outputs": [
    {
     "name": "stdout",
     "output_type": "stream",
     "text": [
      "Requirement already up-to-date: tabletext in /root/anaconda3/envs/py37/lib/python3.7/site-packages (0.1)\n",
      "Collecting prettytable\n",
      "  Downloading https://files.pythonhosted.org/packages/ef/30/4b0746848746ed5941f052479e7c23d2b56d174b82f4fd34a25e389831f5/prettytable-0.7.2.tar.bz2\n",
      "Building wheels for collected packages: prettytable\n",
      "  Building wheel for prettytable (setup.py) ... \u001b[?25ldone\n",
      "\u001b[?25h  Created wheel for prettytable: filename=prettytable-0.7.2-cp37-none-any.whl size=13700 sha256=dd61545d0bbade4f9541aaaf1eee148c3cf84f45e8eeac2c4adce839ca6e59a7\n",
      "  Stored in directory: /root/.cache/pip/wheels/80/34/1c/3967380d9676d162cb59513bd9dc862d0584e045a162095606\n",
      "Successfully built prettytable\n",
      "Installing collected packages: prettytable\n",
      "Successfully installed prettytable-0.7.2\n"
     ]
    }
   ],
   "source": [
    "!pip install -U tabletext prettytable "
   ]
  },
  {
   "cell_type": "code",
   "execution_count": 2,
   "metadata": {},
   "outputs": [],
   "source": [
    "import pandas as pd\n",
    "from os import path\n",
    "import yfinance as yf\n",
    "from prettytable import PrettyTable\n",
    "from glob import glob\n",
    "import matplotlib.pyplot as plt"
   ]
  },
  {
   "cell_type": "code",
   "execution_count": 4,
   "metadata": {},
   "outputs": [],
   "source": [
    "def generate_ascii_table(df):\n",
    "    x = PrettyTable()\n",
    "    x.field_names = df.columns.tolist()\n",
    "    for row in df.values:\n",
    "        x.add_row(row)\n",
    "    print(x)\n",
    "    return x"
   ]
  },
  {
   "cell_type": "code",
   "execution_count": 23,
   "metadata": {},
   "outputs": [
    {
     "name": "stdout",
     "output_type": "stream",
     "text": [
      "Head:\n",
      "+--------+------------------------------------------------------------------------------------------+\n",
      "| Symbol |                                       Description                                        |\n",
      "+--------+------------------------------------------------------------------------------------------+\n",
      "|   A    |                         Agilent Technologies, Inc. Common Stock                          |\n",
      "|   AA   |                                 Alcoa Inc. Common Stock                                  |\n",
      "|  AA$B  | Alcoa Inc. Depository Shares Representing 1/10th Preferred Convertilble Class B Series 1 |\n",
      "|  AAC   |                             AAC Holdings, Inc. Common Stock                              |\n",
      "|  AAN   |                                Aaron's, Inc. Common Stock                                |\n",
      "+--------+------------------------------------------------------------------------------------------+\n",
      "Tail:\n",
      "+--------+------------------------------------------------------------------------------------------------------------+\n",
      "| Symbol |                                                Description                                                 |\n",
      "+--------+------------------------------------------------------------------------------------------------------------+\n",
      "|  ZPIN  |              Zhaopin Limited American Depositary Shares, each reprenting two Ordinary Shares               |\n",
      "|  ZQK   |                                       Quiksilver, Inc. Common Stock                                        |\n",
      "|  ZTR   |                              Zweig Total Return Fund, Inc. (The) Common Stock                              |\n",
      "|  ZTS   |                                      Zoetis Inc. Class A Common Stock                                      |\n",
      "|   ZX   | China Zenix Auto International Limited American Depositary Shares, each representing four ordinary shares. |\n",
      "+--------+------------------------------------------------------------------------------------------------------------+\n",
      "Shape: (3298, 2)\n"
     ]
    }
   ],
   "source": [
    "file_name = 'data/nyse.csv'\n",
    "\n",
    "stocks_df = pd.read_csv(file_name)\n",
    "\n",
    "print(\"Head:\")\n",
    "generate_ascii_table(stocks_df.head())\n",
    "\n",
    "print(\"Tail:\")\n",
    "generate_ascii_table(stocks_df.tail())\n",
    "\n",
    "print(\"Shape:\", stocks_df.shape)"
   ]
  },
  {
   "cell_type": "code",
   "execution_count": 26,
   "metadata": {},
   "outputs": [
    {
     "name": "stdout",
     "output_type": "stream",
     "text": [
      "Head:\n",
      "+--------+---------------------------------------------------+-------------+\n",
      "| Symbol |                    Description                    | Last Volume |\n",
      "+--------+---------------------------------------------------+-------------+\n",
      "|   A    |      Agilent Technologies, Inc. Common Stock      |  1712146.0  |\n",
      "|   AA   |              Alcoa Inc. Common Stock              |  4695503.0  |\n",
      "|  AAP   | Advance Auto Parts Inc Advance Auto Parts Inc W/I |  1065904.0  |\n",
      "|  AAT   |      American Assets Trust, Inc. Common Stock     |   275667.0  |\n",
      "|  ABB   |                ABB Ltd Common Stock               |  1777283.0  |\n",
      "+--------+---------------------------------------------------+-------------+\n",
      "Tail:\n",
      "+--------+------------------------------------------+-------------+\n",
      "| Symbol |               Description                | Last Volume |\n",
      "+--------+------------------------------------------+-------------+\n",
      "|  WGO   | Winnebago Industries, Inc. Common Stock  |   635929.0  |\n",
      "|  WHG   | Westwood Holdings Group Inc Common Stock |   35491.0   |\n",
      "|  WHR   |    Whirlpool Corporation Common Stock    |   912040.0  |\n",
      "|  WIA   |     Western Asset/Claymore Inflation     |   42550.0   |\n",
      "|  WIT   |        Wipro Limited Common Stock        |   989588.0  |\n",
      "+--------+------------------------------------------+-------------+\n",
      "Shape: (1511, 3)\n"
     ]
    }
   ],
   "source": [
    "# with volume\n",
    "stock_df_vol = pd.read_csv(\"data/nyse-volume.csv\").dropna()\n",
    "\n",
    "print(\"Head:\")\n",
    "generate_ascii_table(stock_df_vol.head())\n",
    "\n",
    "print(\"Tail:\")\n",
    "generate_ascii_table(stock_df_vol.tail())\n",
    "\n",
    "print(\"Shape:\", stock_df_vol.shape)\n"
   ]
  },
  {
   "cell_type": "code",
   "execution_count": 27,
   "metadata": {},
   "outputs": [
    {
     "name": "stdout",
     "output_type": "stream",
     "text": [
      "Head:\n",
      "+--------+---------------------------------------------------+-------------+\n",
      "| Symbol |                    Description                    | Last Volume |\n",
      "+--------+---------------------------------------------------+-------------+\n",
      "|   A    |      Agilent Technologies, Inc. Common Stock      |  1712146.0  |\n",
      "|   AA   |              Alcoa Inc. Common Stock              |  4695503.0  |\n",
      "|  AAP   | Advance Auto Parts Inc Advance Auto Parts Inc W/I |  1065904.0  |\n",
      "|  ABB   |                ABB Ltd Common Stock               |  1777283.0  |\n",
      "|  ABBV  |              AbbVie Inc. Common Stock             |  8004485.0  |\n",
      "+--------+---------------------------------------------------+-------------+\n",
      "Tail:\n",
      "+--------+--------------------------------------------------------------+-------------+\n",
      "| Symbol |                         Description                          | Last Volume |\n",
      "+--------+--------------------------------------------------------------+-------------+\n",
      "|   W    |              Wayfair Inc. Class A Common Stock               |  2126930.0  |\n",
      "|  WAB   | Westinghouse Air Brake Technologies Corporation Common Stock |  1239700.0  |\n",
      "|  WDAY  |                  Workday, Inc. Common Stock                  |  1872762.0  |\n",
      "|  WEC   |          Wisconsin Energy Corporation Common Stock           |  1465017.0  |\n",
      "|  WES   |      Western Gas Partners, LP Limited Partner Interests      |  1672866.0  |\n",
      "+--------+--------------------------------------------------------------+-------------+\n",
      "Shape: (455, 3)\n"
     ]
    }
   ],
   "source": [
    "stock_df_vol = stock_df_vol[stock_df_vol['Last Volume'] >= 1000000]\n",
    "\n",
    "print(\"Head:\")\n",
    "generate_ascii_table(stock_df_vol.head())\n",
    "\n",
    "print(\"Tail:\")\n",
    "generate_ascii_table(stock_df_vol.tail())\n",
    "\n",
    "print(\"Shape:\", stock_df_vol.shape)\n"
   ]
  },
  {
   "cell_type": "code",
   "execution_count": 41,
   "metadata": {},
   "outputs": [],
   "source": [
    "tickers = list(\n",
    "    map(\n",
    "        lambda x: x.replace('./data/', '').replace('.pkl', ''), glob(\"./data/*.pkl\")\n",
    "    )\n",
    ")\n",
    "\n",
    "for ticker in tickers:\n",
    "    df = pd.read_csv('./data/' + ticker + \".csv\")\n",
    "    if (df[df.isna()].dropna().shape[0] > 0):\n",
    "        print('Ticker ', ticker, ' has NA data')\n"
   ]
  },
  {
   "cell_type": "code",
   "execution_count": 64,
   "metadata": {},
   "outputs": [
    {
     "data": {
      "image/png": "[encoded data removed]",
      "text/plain": [
       "<Figure size 432x288 with 1 Axes>"
      ]
     },
     "metadata": {
      "needs_background": "light"
     },
     "output_type": "display_data"
    }
   ],
   "source": [
    "ticker = \"AA\"\n",
    "df = pd.read_csv(\"./data/\" + ticker + \".csv\")\n",
    "plt.plot(df[\"Adj Close\"])\n",
    "plt.ylabel(\"Adj Close\")\n",
    "plt.show()"
   ]
  },
  {
   "cell_type": "code",
   "execution_count": 65,
   "metadata": {},
   "outputs": [
    {
     "data": {
      "image/png": "[encoded data removed]",
      "text/plain": [
       "<Figure size 432x288 with 1 Axes>"
      ]
     },
     "metadata": {
      "needs_background": "light"
     },
     "output_type": "display_data"
    }
   ],
   "source": [
    "ticker = \"STAG\"\n",
    "df = pd.read_csv(\"./data/\" + ticker + \".csv\")\n",
    "plt.plot(df[\"Adj Close\"])\n",
    "plt.ylabel(\"Adj Close\")\n",
    "plt.show()"
   ]
  },
  {
   "cell_type": "code",
   "execution_count": 74,
   "metadata": {},
   "outputs": [
    {
     "name": "stdout",
     "output_type": "stream",
     "text": [
      "+--------+--------------------+--------------------+\n",
      "| ticker |   test_accuracy    |   train_accuracy   |\n",
      "+--------+--------------------+--------------------+\n",
      "|  AEG   | 0.9945945945945946 | 0.9974811083123426 |\n",
      "|  VVR   |        1.0         |        1.0         |\n",
      "|  BSX   | 0.9607843137254902 | 0.9730941704035876 |\n",
      "|  DRH   | 0.9792207792207792 | 0.9816625916870416 |\n",
      "|  FSM   | 0.9729166666666668 | 0.9866071428571428 |\n",
      "|  GGB   | 0.9869621903520208 | 0.9851325145442792 |\n",
      "|  IVR   | 0.9917695473251028 | 0.9884615384615384 |\n",
      "|  LYG   | 0.9662337662337662 | 0.9533742331288344 |\n",
      "|  MBT   | 0.9521739130434784 | 0.9640591966173362 |\n",
      "|  SNH   | 0.9760191846522782 | 0.9579326923076924 |\n",
      "+--------+--------------------+--------------------+\n",
      "Shape: (10, 3)\n"
     ]
    }
   ],
   "source": [
    "accuracy_df = pd.read_csv(\"./data/accuracy.csv\").drop(columns=[\"benchmark_test_accuracy\", \"benchmark_train_accuracy\"])\n",
    "accuracy_df = accuracy_df[accuracy_df['train_accuracy'] > .95]\n",
    "generate_ascii_table(accuracy_df)\n",
    "print(\"Shape:\", accuracy_df.shape)"
   ]
  },
  {
   "cell_type": "code",
   "execution_count": 6,
   "metadata": {},
   "outputs": [
    {
     "name": "stdout",
     "output_type": "stream",
     "text": [
      "Head:\n",
      "+--------+--------------------+-------------------------+--------------------+--------------------------+\n",
      "| ticker |   test_accuracy    | benchmark_test_accuracy |   train_accuracy   | benchmark_train_accuracy |\n",
      "+--------+--------------------+-------------------------+--------------------+--------------------------+\n",
      "|  ABEV  | 0.8151515151515152 |    0.4272727272727273   | 0.7828746177370031 |    0.4189602446483181    |\n",
      "|  AEG   | 0.9945945945945946 |    0.4594594594594595   | 0.9974811083123426 |    0.4508816120906801    |\n",
      "|  AMC   | 0.7333333333333333 |    0.3586206896551724   | 0.7443181818181818 |    0.3522727272727273    |\n",
      "|  ALSN  | 0.6890595009596929 |    0.3570057581573896   | 0.7204502814258912 |    0.3696060037523452    |\n",
      "|  AMX   | 0.8870588235294118 |    0.3694117647058823   |  0.87115165336374  |    0.3899657924743444    |\n",
      "+--------+--------------------+-------------------------+--------------------+--------------------------+\n",
      "Tail:\n",
      "+--------+--------------------+-------------------------+--------------------+--------------------------+\n",
      "| ticker |   test_accuracy    | benchmark_test_accuracy |   train_accuracy   | benchmark_train_accuracy |\n",
      "+--------+--------------------+-------------------------+--------------------+--------------------------+\n",
      "|  GLW   | 0.8709677419354839 |   0.41935483870967744   | 0.912280701754386  |    0.456140350877193     |\n",
      "|  PBI   | 0.9121951219512195 |   0.37560975609756103   | 0.904040404040404  |    0.3939393939393939    |\n",
      "|  RES   | 0.7526881720430108 |    0.3870967741935484   | 0.7062146892655368 |    0.3220338983050847    |\n",
      "|  SHO   | 0.981012658227848  |    0.3987341772151899   | 0.949404761904762  |    0.3928571428571429    |\n",
      "|  STAG  | 0.7460317460317459 |    0.3968253968253968   | 0.7651888341543513 |   0.36617405582922813    |\n",
      "+--------+--------------------+-------------------------+--------------------+--------------------------+\n",
      "Shape: (64, 5)\n"
     ]
    }
   ],
   "source": [
    "accuracy_df = pd.read_csv(\"./data/accuracy.csv\")\n",
    "accuracy_df = accuracy_df[accuracy_df['train_accuracy'] > .7]\n",
    "\n",
    "print(\"Head:\")\n",
    "generate_ascii_table(accuracy_df.head())\n",
    "\n",
    "print(\"Tail:\")\n",
    "generate_ascii_table(accuracy_df.tail())\n",
    "\n",
    "print(\"Shape:\", accuracy_df.shape)\n"
   ]
  },
  {
   "cell_type": "code",
   "execution_count": null,
   "metadata": {},
   "outputs": [],
   "source": []
  }
 ],
 "metadata": {
  "kernelspec": {
   "display_name": "Python 3",
   "language": "python",
   "name": "python3"
  },
  "language_info": {
   "codemirror_mode": {
    "name": "ipython",
    "version": 3
   },
   "file_extension": ".py",
   "mimetype": "text/x-python",
   "name": "python",
   "nbconvert_exporter": "python",
   "pygments_lexer": "ipython3",
   "version": "3.7.6"
  }
 },
 "nbformat": 4,
 "nbformat_minor": 4
}
