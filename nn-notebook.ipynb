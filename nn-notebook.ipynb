{
 "cells": [
  {
   "cell_type": "code",
   "execution_count": null,
   "metadata": {},
   "outputs": [],
   "source": [
    "!touch pytorch/train.py\n",
    "!touch pytorch/model.py\n",
    "!touch pytorch/predict.py\n",
    "!touch pytorch/requirements.txt"
   ]
  },
  {
   "cell_type": "code",
   "execution_count": null,
   "metadata": {},
   "outputs": [],
   "source": [
    "import pandas as pd\n",
    "pd.read_csv(local_data_folder + 's3/cluster-0/train.csv', header=None).shape"
   ]
  },
  {
   "cell_type": "code",
   "execution_count": null,
   "metadata": {},
   "outputs": [],
   "source": [
    "# Build model using PyTorch\n",
    "import sagemaker\n",
    "from sagemaker.pytorch import PyTorch\n",
    "\n",
    "role = sagemaker.get_execution_role()\n",
    "sagemaker_session = sagemaker.Session()\n",
    "bucket = sagemaker_session.default_bucket()\n",
    "ticker = 'A'\n",
    "local_data_folder = './data/'\n",
    "prefix = \"udacity-capstone-project\"\n",
    "\n",
    "#cluster-0\n",
    "s3_input_train = sagemaker.s3_input(s3_data='s3://{}/{}/data/cluster-0/train.csv'.format(bucket, prefix), content_type='text/csv')\n",
    "s3_input_validation = sagemaker.s3_input(s3_data='s3://{}/{}/data/cluster-0/validation.csv'.format(bucket, prefix), content_type='text/csv')\n",
    "                    \n",
    "estimator = PyTorch(entry_point='train.py',\n",
    "                    source_dir='pytorch', # this should be just \"source\" for your code\n",
    "                    role=role,\n",
    "                    framework_version='1.0',\n",
    "                    train_instance_count=1,\n",
    "                    train_instance_type='ml.c4.xlarge',\n",
    "                    sagemaker_session=sagemaker_session,\n",
    "                    hyperparameters={\n",
    "                        'input_dim': 26,  # num of features\n",
    "                        'hidden_dim': 260,\n",
    "                        'output_dim': 1,\n",
    "                        'epochs': 200 # could change to higher\n",
    "                    })\n",
    "\n",
    "estimator.fit({ 'train': s3_input_train, 'validation': s3_input_validation })"
   ]
  }
 ],
 "metadata": {
  "kernelspec": {
   "display_name": "conda_pytorch_p36",
   "language": "python",
   "name": "conda_pytorch_p36"
  },
  "language_info": {
   "codemirror_mode": {
    "name": "ipython",
    "version": 3
   },
   "file_extension": ".py",
   "mimetype": "text/x-python",
   "name": "python",
   "nbconvert_exporter": "python",
   "pygments_lexer": "ipython3",
   "version": "3.6.5"
  }
 },
 "nbformat": 4,
 "nbformat_minor": 4
}
